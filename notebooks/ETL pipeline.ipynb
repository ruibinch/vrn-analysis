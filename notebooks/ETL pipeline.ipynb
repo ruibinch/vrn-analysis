{
 "cells": [
  {
   "cell_type": "markdown",
   "metadata": {},
   "source": [
    "This notebook details the **ETL pipeline** used in the project.\n",
    "\n",
    "Both the data source and destination refer to the same Google Sheets [here](https://docs.google.com/spreadsheets/d/18KGQFVDZ8wgj2pb1ErKh2QXGtF1N2U17GiwRBcXI1TI/). \n",
    "\n",
    "Summary:\n",
    "- Extract\n",
    "    - VRN data from the \"VRN\" worksheet\n",
    "    - Car prices data from the \"Prices\" worksheet\n",
    "- Transform\n",
    "- Load\n",
    "    - Results data into the \"Results\" worksheet\n",
    "    - Updated car prices data into the \"Prices\" worksheet"
   ]
  },
  {
   "cell_type": "code",
   "execution_count": 7,
   "metadata": {},
   "outputs": [],
   "source": [
    "# necessary for pyspark to be correctly loaded\n",
    "import findspark\n",
    "findspark.init()\n",
    "\n",
    "import os\n",
    "while not os.getcwd().endswith('vrn-analysis'):\n",
    "    os.chdir('..')"
   ]
  },
  {
   "cell_type": "markdown",
   "metadata": {},
   "source": [
    "# ETL pipeline"
   ]
  },
  {
   "cell_type": "markdown",
   "metadata": {},
   "source": [
    "The main job that runs the ETL pipeline is the `main()` function in `jobs/etl_job.py`.\n",
    "\n",
    "`start_spark()` is a custom function defined in the `helpers` package that returns the created Spark session, Spark logger and config values in a dict."
   ]
  },
  {
   "cell_type": "code",
   "execution_count": 2,
   "metadata": {},
   "outputs": [],
   "source": [
    "from helpers.spark import start_spark\n",
    "\n",
    "# start Spark application and get session, logger, config\n",
    "spark, log, config = start_spark(\n",
    "    app_name='vrn_analysis',\n",
    "    files=['configs/etl_config.json'])\n",
    "sc = spark.sparkContext"
   ]
  },
  {
   "cell_type": "markdown",
   "metadata": {},
   "source": [
    "## Extract\n",
    "\n",
    "#### VRN worksheet\n",
    "\n",
    "The **VRN** worksheet serves as the central data repository that stores the car types for the various VRN letter/number combinations.\n",
    "\n",
    "Each row represents one VRN letter, e.g. *SMS*. <br>\n",
    "Each column represents one number, e.g. *1*.\n",
    "\n",
    "A snippet of a row in the \"VRN\" worksheet is shown below.\n",
    "\n",
    "<img src=\"img/vrn-ws-sample.jpg\" alt=\"VRN WS sample\" />\n",
    "\n",
    "The data for each cell here had been painstakingly collected, one by one, from the LTA road tax expiry enquiry site [here](https://vrl.lta.gov.sg/lta/vrl/action/pubfunc2?ID=EnquireRoadTaxExpDtProxy). Sadly, there is no convenient API where this information can be extracted.\n",
    "\n",
    "The cell text and background colour varies depending on the car brand to make for better visual aesthetics.\n",
    "\n",
    "The image below lists all of the car brands and their corresponding colours.\n",
    "\n",
    "<img src=\"img/car-brands.jpg\" alt=\"Car brands\"/>\n",
    "\n",
    "*Side note: \"FERRARI\" requires an extra \" /\" behind it as there is a model under FIAT called \"FIAT / 500 ABARTH 695 TRIBUTO FERRARI 1.4 A\" that would be mistakenly coloured as under the FERRARI brand otherwise.*\n",
    "\n",
    "#### Prices worksheet\n",
    "\n",
    "The **Prices** worksheet lists all of the car types present and the corresponding price for each car type.\n",
    "\n",
    "It contains 3 columns - make, model, price.\n",
    "\n",
    "<img src=\"img/prices-ws-sample.jpg\" alt=\"Prices WS sample\" />"
   ]
  },
  {
   "cell_type": "code",
   "execution_count": 8,
   "metadata": {},
   "outputs": [
    {
     "name": "stdout",
     "output_type": "stream",
     "text": [
      "VRN worksheet:\n",
      "['Series', '1', '2', '3', '4', '5', '6', '7', '8', '9', '10', '18', '28', '88', '99', '100', '888', '999', '8888']\n",
      "['SKF', 'ROLLS ROYCE / PHANTOM AUTO ABS D/AB 2WD 4DR HID TV NAV', 'MAZDA / ROADSTER 1.5 AUTO', 'LAMBORGHINI / AVENTADOR LP700-4', 'MERCEDES BENZ / 280S', 'PORSCHE / PANAMERA G2 PDK E6', 'SUZUKI / SWIFT HYBRID 1.2RS CVT', 'FERRARI / 458 SPIDER 4.5L A/T ABS D/AB 2WD 2DR HID', 'PORSCHE / 911 CARRERA (991-II) PDK E6 SES', 'TOYOTA / ALPHARD 2.5SC PACKAGE CVT ABS 2WD 5DR', '-', 'B.M.W. / X6 XDRIVE35I SR LED NAV HUD', 'B.M.W. / 520I LED NAV', 'VOLKSWAGEN / GOLF TSI TL', 'MERCEDES BENZ / GLC250 4MATIC (R18 LED)', 'TOYOTA / LEXUS RX350', 'BENTLEY / CONTI FS', 'NISSAN / GT-R 3.8 A', 'MERCEDES BENZ / V250 D AVG LONG']\n",
      "\n",
      "Prices worksheet:\n",
      "['ALFA ROMEO', 'GIULIA 2.9 V6', '339,000']\n",
      "['ALPINA', 'B3 BITURBO', '318,800']\n",
      "['ALPINE', 'A110', '238,800']\n"
     ]
    }
   ],
   "source": [
    "from jobs import extract\n",
    "\n",
    "# Extract phase: get VRN + Prices sheets as RDDs\n",
    "vrn_rdd, prices_rdd = extract.run(\n",
    "    sc, \n",
    "    log,\n",
    "    config)\n",
    "\n",
    "print('VRN worksheet:')\n",
    "print(*vrn_rdd.take(2), sep='\\n')\n",
    "print('\\nPrices worksheet:')\n",
    "print(*prices_rdd.take(3), sep='\\n')"
   ]
  },
  {
   "cell_type": "markdown",
   "metadata": {},
   "source": [
    "Each worksheet is loaded into an **RDD as a list of lists**, where each sublist contains the contents of a single row."
   ]
  },
  {
   "cell_type": "markdown",
   "metadata": {},
   "source": [
    "## Transform\n",
    "\n",
    "### `vrn_rdd`\n",
    "\n",
    "`vrn_rdd` will be transformed to generate 2 output RDDs:\n",
    "\n",
    "- `vrn_rdd_tfm`, which contains the cleaned version of the car model names\n",
    "- `results_rdd`, which contains the price mapping for each car model\n",
    "\n",
    "##### Cleaning of car type values\n",
    "\n",
    "The cleaning refers to the removal of extra descriptors in the car model name that serves no purpose, as well as converting similar-sounding model names into one common model name to prevent duplicates. **This portion forms the meat of the entire transformation process.**\n",
    "\n",
    "Example of removing extra descriptors:\n",
    "\n",
    "- From:\n",
    "    - *B.M.W. / M5 30 JAHRE EDITION SR NAV NVD LED HUD*\n",
    "    - *MERCEDES BENZ / A45 AMG AT 4MATIC D/AIRBAG 2WD 5DR*\n",
    "- To\n",
    "    - *B.M.W. / M5 30 JAHRE EDITION*\n",
    "    - *MERCEDES BENZ / A45 AMG 4MATIC*\n",
    "\n",
    "Example of converting to a common model name:\n",
    "\n",
    "- From:\n",
    "    - *TOYOTA / ALPHARD 2.5SC CVT*\n",
    "    - *TOYOTA / ALPHARD 7-SEATER 2.5 SC CVT*\n",
    "    - *TOYOTA / ALPHARD 2.5S-C CVT*\n",
    "- To:\n",
    "    - *TOYOTA / ALPHARD 2.5 S-C*\n",
    "    \n",
    "**`vrn_rdd_tfm` will be the output of this subprocess.**\n",
    "\n",
    "##### Mapping each car type to a price\n",
    "\n",
    "This car-type-to-price mapping is based on a car prices dict, which is created from `prices_rdd`. A sample is as follows.\n",
    "\n",
    "```\n",
    "{\n",
    "    'ALPINA / B3 BITURBO': '318,800',\n",
    "    'ASTON MARTIN / DB11 V8': '799,000',\n",
    "    'ASTON MARTIN / DB9': '808,000',\n",
    "    'ASTON MARTIN / RAPIDE 6.0': '868,000',\n",
    "    'ASTON MARTIN / V8 VANTAGE S/SHIFT 4.7': '520,000',\n",
    "    'AUDI / A3 SEDAN 1.0': '136,460',\n",
    "    'AUDI / A3 SPORTBACK 1.0': '134,250',\n",
    "    ...\n",
    "}\n",
    "```\n",
    "\n",
    "After the requisite cleaning is done, the price for each car type can then be obtained via a simple dict lookup.\n",
    "    \n",
    "**`results_rdd` will be the output of this subprocess.**\n",
    "\n",
    "### `prices_rdd`\n",
    "\n",
    "`prices_rdd` is not so much transformed, but updated with new make/model combinations that were not in the original list, and hence no corresponding price could be found for these new combinations.\n",
    "\n",
    "During the mapping phase above, any car type that did not have a corresponding price will be flagged out.\n",
    "\n",
    "These car types are then added to `prices_rdd`, where they will be assigned a default value of `0`.\n",
    "\n",
    "Example of new car type entry:\n",
    "\n",
    "```\n",
    "    [\n",
    "     ...,\n",
    "     ['BENTLEY', 'CONTINENTAL FLYING SPUR 6.0', '0'],\n",
    "     ...,\n",
    "    ]\n",
    "```\n",
    "\n",
    "**`prices_rdd` will be the output of this subprocess.**\n",
    "\n",
    "#### (Additional note)\n",
    "\n",
    "Of course, this entire process is a chicken-and-egg cycle, where the car prices have to be found first before a mapping can be done, but the car types have to be first identified before the corresponding car prices can be found.\n",
    "\n",
    "This transformation process only works after a base has been established. The **Laying the foundations** section below details the effort that went into building this base, which contains additional details on how the cleaning of car type values was initially done."
   ]
  },
  {
   "cell_type": "code",
   "execution_count": 9,
   "metadata": {},
   "outputs": [
    {
     "name": "stdout",
     "output_type": "stream",
     "text": [
      "Transformed VRN worksheet:\n",
      "['Series', '1', '2', '3', '4', '5', '6', '7', '8', '9', '10', '18', '28', '88', '99', '100', '888', '999', '8888', 'SKF', 'ROLLS ROYCE / PHANTOM', 'MAZDA / ROADSTER 1.5', 'LAMBORGHINI / AVENTADOR LP700-4', 'MERCEDES BENZ / 280S', 'PORSCHE / PANAMERA', 'SUZUKI / SWIFT HYBRID 1.2', 'FERRARI / 458 SPIDER 4.5', 'PORSCHE / 911 CARRERA', 'TOYOTA / ALPHARD 2.5 S-C', '-', 'B.M.W. / X6 XDRIVE35I', 'B.M.W. / 520I', 'VOLKSWAGEN / GOLF 1.4', 'MERCEDES BENZ / GLC250 4MATIC', 'TOYOTA / LEXUS RX350', 'BENTLEY / CONTINENTAL FLYING SPUR', 'NISSAN / GT-R 3.8', 'MERCEDES BENZ / V250', 'SKG', 'ROLLS ROYCE / GHOST EWB']\n"
     ]
    }
   ],
   "source": [
    "from jobs import transform\n",
    "\n",
    "# Transform phase:\n",
    "# convert each car model to a price\n",
    "# update prices RDD with any new car types \n",
    "vrn_rdd_tfm, results_rdd, prices_rdd_tfm = transform.run(\n",
    "    log,\n",
    "    vrn_rdd,\n",
    "    prices_rdd)\n",
    "\n",
    "print('Transformed VRN worksheet:')\n",
    "print(vrn_rdd_tfm.take(40))"
   ]
  },
  {
   "cell_type": "markdown",
   "metadata": {},
   "source": [
    "In the VRN worksheet, the cell values which contained a car type are now replaced with a price.\n",
    "\n",
    "For car types where no price mapping was found, they are added as new rows to the Prices worksheet."
   ]
  },
  {
   "cell_type": "code",
   "execution_count": 10,
   "metadata": {
    "scrolled": false
   },
   "outputs": [
    {
     "name": "stdout",
     "output_type": "stream",
     "text": [
      "New values in Prices worksheet:\n",
      "['FERRARI', '360 F1 SPIDER', '0']\n",
      "['FERRARI', '430 F1 SPIDER', '0']\n",
      "['FERRARI', 'FERRARI 599F1', '0']\n",
      "['MASERATI', 'GRANTURISMO CAMBIOCORSA', '0']\n",
      "['MASERATI', 'GRANTURISMO MC STRADALE', '0']\n",
      "['MITSUBISHI', 'EVO IV', '0']\n",
      "['PORSCHE', '981 BOXSTER S', '0']\n",
      "['ROLLS ROYCE', 'SILVER SPUR', '0']\n"
     ]
    }
   ],
   "source": [
    "print('New values in Prices worksheet:')\n",
    "new_values = prices_rdd_tfm.filter(lambda x: x[2] == '0').take(100)\n",
    "print(*new_values, sep='\\n')"
   ]
  },
  {
   "cell_type": "markdown",
   "metadata": {},
   "source": [
    "## Load\n",
    "\n",
    "### `vrn_rdd_tfm`\n",
    "\n",
    "The transformed VRN RDD contains the cleaned version of the car model names.\n",
    "\n",
    "<img src=\"img/vrncleaned-ws-sample.jpg\" alt=\"VRNCleaned WS sample\" />\n",
    "\n",
    "This will be uploaded to a **VRNCleaned** worksheet.\n",
    "\n",
    "### `results_rdd`\n",
    "\n",
    "The results RDD follows the same structure as the VRN RDD, where each cell contains the price of the corresponding car type.\n",
    "\n",
    "<img src=\"img/results-ws-sample.jpg\" alt=\"Results WS sample\" />\n",
    "\n",
    "This RDD will be uploaded to a **Results** worksheet.\n",
    "\n",
    "### `prices_rdd`\n",
    "\n",
    "The prices RDD has been updated with new make/model combinations and will be uploaded back to its source, the **Prices** worksheet."
   ]
  },
  {
   "cell_type": "code",
   "execution_count": 11,
   "metadata": {},
   "outputs": [],
   "source": [
    "from jobs import load\n",
    "\n",
    "# Load phase: Load the transformed RDDs as CSVs and upload back to GSheets\n",
    "n_cols = len(vrn_rdd.take(1)[0])\n",
    "load.run(\n",
    "    log,\n",
    "    config,\n",
    "    n_cols,\n",
    "    vrn_rdd_tfm,\n",
    "    results_rdd,\n",
    "    prices_rdd_tfm)"
   ]
  },
  {
   "cell_type": "markdown",
   "metadata": {},
   "source": [
    "In the **Prices** worksheet, values that contain the value \"0\", i.e. new car types, are highlighted in red for easier identification. Manual intervention will then be required to find the corresponding price for these new car types."
   ]
  },
  {
   "cell_type": "markdown",
   "metadata": {},
   "source": [
    "# Laying the foundations\n",
    "\n",
    "This section details what was done to lay the initial foundations for this project, before the ETL pipeline described above could be established.\n",
    "\n",
    "This can be broken down into 3 sections:\n",
    "1. Data collection\n",
    "1. Car type cleaning\n",
    "1. Finding car prices"
   ]
  },
  {
   "cell_type": "markdown",
   "metadata": {},
   "source": [
    "### Data collection\n",
    "\n",
    "The data collection process comprises of 2 steps.\n",
    "\n",
    "#### Calculating the VRN checksum letters\n",
    "\n",
    "This refers to finding the checksum letter, or the ending letter, in any licence plate. This calculation process can be found online and has been translated into Python code in the file `scripts/vrn_checksum.py`.\n",
    "\n",
    "To add new letters/numbers, simply add to the 2 lists - `VRN_LETTERS`, `VRN_NUMBERS` - defined at the top of the file and call `vrn_checksum.run()`.\n",
    "\n",
    "This will calculate the checksum for all of the letter/number combinations and automatically upload the results to the **Checksum** worksheet. A sample is shown below.\n",
    "\n",
    "<img src=\"img/checksum-ws-sample.jpg\" alt=\"Checksum WS sample\" />\n",
    "\n",
    "#### Actual data collection\n",
    "\n",
    "The **Checksum** worksheet can then be used as reference for input into the LTA road tax expiry enquiry site [here](https://vrl.lta.gov.sg/lta/vrl/action/pubfunc2?ID=EnquireRoadTaxExpDtProxy).\n",
    "\n",
    "1. Input the vehicle number and fill in the CAPTCHA.\n",
    "\n",
    "    <img src=\"img/data-collection-sample-1.jpg\" alt=\"Data collection 1\" width=\"80%\" />\n",
    "\n",
    "1. Copy the entire text from the \"Vehicle Make/Model\" field into Google Sheets.\n",
    "\n",
    "    <img src=\"img/data-collection-sample-2.jpg\" alt=\"Data collection 2\" width=\"80%\" />"
   ]
  },
  {
   "cell_type": "markdown",
   "metadata": {},
   "source": [
    "### Car type cleaning\n",
    "\n",
    "The most time-consuming part of the entire process is to clean the myriad of make/model combinations. The details are mentioned above in the **Transform** section.\n",
    "\n",
    "We will take 1 brand as an example and do a walkthrough on how the specific cleaning is done.\n",
    "\n",
    "First, based on `vrn_rdd`, we create a dict `cars_dict` where:\n",
    "- key: car make\n",
    "- value: list of car models belonging to the car make"
   ]
  },
  {
   "cell_type": "code",
   "execution_count": null,
   "metadata": {},
   "outputs": [],
   "source": [
    "from jobs.transform_scripts import cleaners, general\n",
    "cars_dict = vrn_rdd \\\n",
    "    .flatMap(lambda x: x) \\\n",
    "    .filter(lambda x: general.is_car_type(x)) \\\n",
    "    .map(lambda x: cleaners.clean_raw_data(x)) \\\n",
    "    .map(lambda x: x.split(' / ')) \\\n",
    "    .reduceByKey(lambda x, y: x + ',' + y) \\\n",
    "    .map(lambda x: (x[0], x[1].split(','))) \\\n",
    "    .map(lambda x: (x[0], sorted(set(x[1])))) \\\n",
    "    .sortByKey(lambda x: x[0]) \\\n",
    "    .collectAsMap()"
   ]
  },
  {
   "cell_type": "markdown",
   "metadata": {},
   "source": [
    "Then, we focus on each make at a time. Let's take \"*BENTLEY*\" as an example."
   ]
  },
  {
   "cell_type": "code",
   "execution_count": null,
   "metadata": {},
   "outputs": [],
   "source": [
    "import re\n",
    "\n",
    "def clean(model_name):\n",
    "    model_name = re.sub('TOYOTA / TOYOTA /', 'TOYOTA /', model_name)\n",
    "    model_name = re.sub('ESTIMA', 'PREVIA', model_name)\n",
    "\n",
    "    # remove the following words\n",
    "    model_name = re.sub('\\s(7(\\s|-)SEATER|\\dDR|\\dWD|ABS|A\\/?T|(D\\/)?AIRBAG|AUTO|CVT|EDITION|EXECUTIVE\\sLOUNGE|G\\'S|M(OON)?R(OOF)?|PACKAGE|PLATINUM|PREMIUM|S\\/R|SEDAN|SELECTION|ST(ANDAR)?D|SUV)', '', model_name)\n",
    "    model_name = re.sub('^TOYOTA ', '', model_name)\n",
    "    model_name = re.sub('-PACKAGE', '', model_name)\n",
    "    \n",
    "    return model_name\n",
    "\n",
    "\n",
    "[clean(e) for e in cars_dict['TOYOTA']]"
   ]
  },
  {
   "cell_type": "markdown",
   "metadata": {},
   "source": [
    "First, we remove the unnecessary words.\n",
    "- These can be obvious unnecessary words, e.g. *4WD*, *5 SEATER*, *ABS*, *AT*, *AUTO*, *S/R*\n",
    "- Reference to pricelists also help to decide if a word can be removed, e.g. if there only exists *BENTAYGA V8* in the pricelist, then the word *DIESEL* can be removed\n",
    "\n",
    "For efficient cleaning, we use regex patterns - https://regexr.com/ is an invaluable tool here for us to test out our regex patterns.\n",
    "\n",
    "<img src=\"img/data-cleaning-sample.jpg\" alt=\"Data cleaning sample\" width=\"80%\" />"
   ]
  },
  {
   "cell_type": "code",
   "execution_count": null,
   "metadata": {},
   "outputs": [],
   "source": [
    "import re\n",
    "\n",
    "def clean(s):\n",
    "    return re.sub('\\s(\\d\\sSEATER|ABS|A\\/?T|A(UTO)?|DIESEL|\\dWD|S\\/R)', '', s)\n",
    "    \n",
    "sorted(list(set([clean(s) for s in cars_dict['BENTLEY']])))"
   ]
  },
  {
   "cell_type": "markdown",
   "metadata": {},
   "source": [
    "After the extra words have been removed, we manually examine the remaining words more closely.\n",
    "\n",
    "We see that there are some models that should be combined into the same model type.\n",
    "- *CONTINENTAL GT V8*, *CONTINENTAL GT V8 S*\n",
    "- *FLYING SPUR V8 4.0*, *FLYING SPUR V8 S*\n",
    "\n",
    "We add some manual substitutions to deduplicate these similar model names."
   ]
  },
  {
   "cell_type": "code",
   "execution_count": null,
   "metadata": {},
   "outputs": [],
   "source": [
    "def clean(s):\n",
    "    s = re.sub('SPUR V8 S', 'SPUR V8 4.0', s)\n",
    "    s = re.sub('GT V8 S', 'GT V8', s)\n",
    "    return re.sub('\\s(\\d\\sSEATER|ABS|A\\/?T|A(UTO)?|DIESEL|\\dWD|S\\/R)', '', s)\n",
    "    \n",
    "sorted(list(set([clean(s) for s in cars_dict['BENTLEY']])))"
   ]
  },
  {
   "cell_type": "markdown",
   "metadata": {},
   "source": [
    "Now, we are satisfied that no further cleaning can be done.\n",
    "\n",
    "The cleaning function can then be copied to the `jobs/transform_scripts/cleaners.py` file. For easier maintanability, the cleaning function for each car make is located in its own function. In this case, the function should be renamed to `clean_bentley()`.\n",
    "\n",
    "The above process is then repeated for each car make. A tedious process..."
   ]
  },
  {
   "cell_type": "markdown",
   "metadata": {},
   "source": [
    "### Finding car prices\n",
    "\n",
    "Finding car prices can be a straightforward or tiresome task, depending on a few factors:\n",
    "- Car make\n",
    "    - Most car brands have published pricelists\n",
    "    - But super high-end brands, e.g. *BENTLEY*, *FERRARI*, typically label all their car prices as \"POA\" (Price On Application)\n",
    "    - And there are some brands that I never knew existed and where an accurate price is almost impossible to find, e.g. *RUF*\n",
    "- Car age\n",
    "    - It's easy to find the price for a *MERCEDES BENZ / S400L*, but how can we find an accurate market price for a *MERCEDES BENZ / 300SL-24* that was last produced in 2001?\n",
    "- Car model rarity\n",
    "    - There exists a *B.M.W. / M5*, which is a high-performance BMW saloon\n",
    "    - There also exists a *B.M.W. / M5 30 JAHRE EDITION*, which is a special edition of the M5 built to commemorate the 30-year anniversary of the original BMW M5 release. Only 300 of such vehicles were produced - how can this collector's item be accurately quantified?\n",
    "- Car model variations\n",
    "    - The following models all exist:\n",
    "        - *MERCEDES BENZ / GLC250 4MATIC*\n",
    "        - *MERCEDES BENZ / GLC250 4MATIC COUPE*\n",
    "        - *MERCEDES BENZ / GLC250 AMG 4MATIC*\n",
    "        - *MERCEDES BENZ / GLC250 AMG 4MATIC COUPE*\n",
    "    - Sometimes, I just try to find the price for one of these models and then approximate the prices for the others using the found price as the baseline, e.g. add \\\\$10k for AMG, add $20k for coupe, etc.\n",
    "\n",
    "Additionally, some car models are likely to be an older model despite sharing the same model name, e.g. *MERCEDES BENZ / C180 KOMP*, *MERCEDES BENZ / C180 CGI*. However, for simplicity's sake, the model years are all ignored and all of the variations are assigned the current price of the latest model.\n",
    "\n",
    "Another factor is COE - some of the prices include a COE package, while others exclude it. For simplicity's sake as well, all of those are disregarded. It is too much of a pain to sieve through the fine print on each pricelist...\n",
    "\n",
    "**These are the 2 main resources that I had used to find the car prices:**\n",
    "- [sgCarMart](https://www.sgcarmart.com/new_cars/newcars_pricelist_listing.php)\n",
    "- [OneShift](https://www.oneshift.com/new_cars/car-price-singapore)\n",
    "\n",
    "When all else fails, typing \"*{car model name} price singapore*\" into Google Search sometimes works pretty well.\n",
    "\n",
    "As the GSheet document is taken as the SSoT, **all prices found should be updated in GSheets directly**.\n",
    "\n",
    "<img src=\"img/prices-ws-sample.jpg\" alt=\"Prices WS sample\" />"
   ]
  },
  {
   "cell_type": "markdown",
   "metadata": {},
   "source": [
    "After the prices have been updated in GSheets, the following cycle can then start (or continue):\n",
    "\n",
    "<img src=\"img/process-cycle.jpg\" alt=\"Process cycle\" />"
   ]
  }
 ],
 "metadata": {
  "kernelspec": {
   "display_name": "Python 3",
   "language": "python",
   "name": "python3"
  },
  "language_info": {
   "codemirror_mode": {
    "name": "ipython",
    "version": 3
   },
   "file_extension": ".py",
   "mimetype": "text/x-python",
   "name": "python",
   "nbconvert_exporter": "python",
   "pygments_lexer": "ipython3",
   "version": "3.8.3"
  }
 },
 "nbformat": 4,
 "nbformat_minor": 4
}
